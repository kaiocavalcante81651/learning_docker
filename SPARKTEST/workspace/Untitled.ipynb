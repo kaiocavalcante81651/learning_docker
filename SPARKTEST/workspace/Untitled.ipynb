{
 "cells": [
  {
   "cell_type": "code",
   "execution_count": 1,
   "id": "8dfa47e1-1aab-4ec2-92a1-7dcc80a82d84",
   "metadata": {},
   "outputs": [
    {
     "name": "stderr",
     "output_type": "stream",
     "text": [
      "WARNING: Using incubator modules: jdk.incubator.vector\n",
      "Using Spark's default log4j profile: org/apache/spark/log4j2-defaults.properties\n",
      "Setting default log level to \"WARN\".\n",
      "To adjust logging level use sc.setLogLevel(newLevel). For SparkR, use setLogLevel(newLevel).\n",
      "25/08/23 02:09:07 WARN NativeCodeLoader: Unable to load native-hadoop library for your platform... using builtin-java classes where applicable\n"
     ]
    },
    {
     "name": "stdout",
     "output_type": "stream",
     "text": [
      "+----------+----------+----------+----------+----------+-------------------+-------------+-----------+----------+-------------+\n",
      "|Unnamed: 0|Unnamed: 1|Unnamed: 2|Unnamed: 3|Unnamed: 4|Agosto – 2025      |Unnamed: 6   |Unnamed: 7 |Unnamed: 8|Unnamed: 9   |\n",
      "+----------+----------+----------+----------+----------+-------------------+-------------+-----------+----------+-------------+\n",
      "|NULL      |NULL      |NULL      |NULL      |NULL      |NULL               |NULL         |NULL       |NULL      |NULL         |\n",
      "|NULL      |NULL      |NULL      |NULL      |NULL      |Data               |Dia          |Ganho bruto|Despesas  |Ganho líquido|\n",
      "|NULL      |NULL      |NULL      |NULL      |NULL      |2025-08-01 00:00:00|Sexta-feira  |150.0      |50.0      |100.0        |\n",
      "|NULL      |NULL      |NULL      |NULL      |NULL      |2025-08-02 00:00:00|sábado       |NULL       |NULL      |0.0          |\n",
      "|NULL      |NULL      |NULL      |NULL      |NULL      |2025-08-03 00:00:00|domingo      |NULL       |NULL      |0.0          |\n",
      "|NULL      |NULL      |NULL      |NULL      |NULL      |2025-08-04 00:00:00|segunda-feira|NULL       |NULL      |0.0          |\n",
      "|NULL      |NULL      |NULL      |NULL      |NULL      |2025-08-05 00:00:00|terça-feira  |NULL       |NULL      |0.0          |\n",
      "|NULL      |NULL      |NULL      |NULL      |NULL      |2025-08-06 00:00:00|quarta-feira |163.78     |50.0      |113.78       |\n",
      "|NULL      |NULL      |NULL      |NULL      |NULL      |2025-08-07 00:00:00|quinta-feira |160.49     |50.0      |110.49       |\n",
      "|NULL      |NULL      |NULL      |NULL      |NULL      |2025-08-08 00:00:00|sexta-feira  |157.33     |50.0      |107.33       |\n",
      "|NULL      |NULL      |NULL      |NULL      |NULL      |2025-08-09 00:00:00|sábado       |128.84     |50.0      |78.84        |\n",
      "|NULL      |NULL      |NULL      |NULL      |NULL      |2025-08-10 00:00:00|domingo      |NULL       |NULL      |0.0          |\n",
      "|NULL      |NULL      |NULL      |NULL      |NULL      |2025-08-11 00:00:00|segunda-feira|118.66     |50.0      |68.66        |\n",
      "|NULL      |NULL      |NULL      |NULL      |NULL      |2025-08-12 00:00:00|terça-feira  |177.73     |50.0      |127.73       |\n",
      "|NULL      |NULL      |NULL      |NULL      |NULL      |2025-08-13 00:00:00|quarta-feira |163.5      |50.0      |113.5        |\n",
      "|NULL      |NULL      |NULL      |NULL      |NULL      |2025-08-14 00:00:00|quinta-feira |154.03     |50.0      |104.03       |\n",
      "|NULL      |NULL      |NULL      |NULL      |NULL      |2025-08-15 00:00:00|sexta-feira  |NULL       |NULL      |0.0          |\n",
      "|NULL      |NULL      |NULL      |NULL      |NULL      |2025-08-16 00:00:00|sábado       |NULL       |NULL      |0.0          |\n",
      "|NULL      |NULL      |NULL      |NULL      |NULL      |2025-08-17 00:00:00|domingo      |NULL       |NULL      |0.0          |\n",
      "|NULL      |NULL      |NULL      |NULL      |NULL      |2025-08-18 00:00:00|segunda-feira|49.1       |NULL      |49.1         |\n",
      "|NULL      |NULL      |NULL      |NULL      |NULL      |2025-08-19 00:00:00|terça-feira  |105.0      |50.0      |55.0         |\n",
      "|NULL      |NULL      |NULL      |NULL      |NULL      |2025-08-20 00:00:00|quarta-feira |148.96     |50.0      |98.96        |\n",
      "|NULL      |NULL      |NULL      |NULL      |NULL      |2025-08-21 00:00:00|quinta-feira |105.0      |50.0      |55.0         |\n",
      "|NULL      |NULL      |NULL      |NULL      |NULL      |2025-08-22 00:00:00|sexta-feira  |86.17      |50.0      |36.17        |\n",
      "|NULL      |NULL      |NULL      |NULL      |NULL      |2025-08-23 00:00:00|sábado       |NULL       |NULL      |0.0          |\n",
      "|NULL      |NULL      |NULL      |NULL      |NULL      |2025-08-24 00:00:00|domingo      |NULL       |NULL      |0.0          |\n",
      "|NULL      |NULL      |NULL      |NULL      |NULL      |2025-08-25 00:00:00|segunda-feira|NULL       |NULL      |0.0          |\n",
      "|NULL      |NULL      |NULL      |NULL      |NULL      |2025-08-26 00:00:00|terça-feira  |NULL       |NULL      |0.0          |\n",
      "|NULL      |NULL      |NULL      |NULL      |NULL      |2025-08-27 00:00:00|quarta-feira |NULL       |NULL      |0.0          |\n",
      "|NULL      |NULL      |NULL      |NULL      |NULL      |2025-08-28 00:00:00|quinta-feira |NULL       |NULL      |0.0          |\n",
      "|NULL      |NULL      |NULL      |NULL      |NULL      |2025-08-29 00:00:00|sexta-feira  |NULL       |NULL      |0.0          |\n",
      "|NULL      |NULL      |NULL      |NULL      |NULL      |2025-08-30 00:00:00|sábado       |NULL       |NULL      |0.0          |\n",
      "|NULL      |NULL      |NULL      |NULL      |NULL      |2025-08-31 00:00:00|domingo      |NULL       |NULL      |0.0          |\n",
      "|NULL      |NULL      |NULL      |NULL      |NULL      |Total              |NULL         |1868.59    |650.0     |1218.59      |\n",
      "+----------+----------+----------+----------+----------+-------------------+-------------+-----------+----------+-------------+\n",
      "\n"
     ]
    }
   ],
   "source": [
    "import pandas as pd\n",
    "from pyspark.sql import SparkSession\n",
    "\n",
    "pd.set_option('display.max_columns', None)\n",
    "pd.set_option('display.max_rows', None)\n",
    "\n",
    "csv_file = 'Agosto_2025.ods'\n",
    "\n",
    "df = pd.read_excel(csv_file, engine='odf')\n",
    "\n",
    "df.to_csv('Agosto_2025.csv', index=False)\n",
    "\n",
    "# Cria a SparkSession\n",
    "spark = SparkSession.builder.appName(\"LeituraODS\").getOrCreate()\n",
    "\n",
    "# Lê o arquivo CSV gerado\n",
    "df_spark = spark.read.option(\"header\", \"true\").csv(\"Agosto_2025.csv\")\n",
    "\n",
    "# Mostra todas as linhas\n",
    "df_spark.show(truncate=False, n=df_spark.count())"
   ]
  },
  {
   "cell_type": "code",
   "execution_count": null,
   "id": "74b46267-d5d5-42c5-adc9-2c57cb73aafb",
   "metadata": {},
   "outputs": [],
   "source": []
  }
 ],
 "metadata": {
  "kernelspec": {
   "display_name": "Python 3 (ipykernel)",
   "language": "python",
   "name": "python3"
  },
  "language_info": {
   "codemirror_mode": {
    "name": "ipython",
    "version": 3
   },
   "file_extension": ".py",
   "mimetype": "text/x-python",
   "name": "python",
   "nbconvert_exporter": "python",
   "pygments_lexer": "ipython3",
   "version": "3.9.2"
  }
 },
 "nbformat": 4,
 "nbformat_minor": 5
}
